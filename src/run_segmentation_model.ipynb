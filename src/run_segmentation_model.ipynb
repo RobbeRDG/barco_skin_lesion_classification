{
 "cells": [
  {
   "cell_type": "code",
   "execution_count": null,
   "metadata": {},
   "outputs": [],
   "source": [
    "# Import libraries\n",
    "# DL libraries\n",
    "import torch\n",
    "\n",
    "# User libraries\n",
    "from util import config, model_management\n",
    "from models.unet_model import UNet"
   ]
  },
  {
   "cell_type": "code",
   "execution_count": null,
   "metadata": {},
   "outputs": [],
   "source": [
    "# Get the model\n",
    "model = UNet(n_channels = 3, n_classes = 1)\n",
    "model.to(config.DEVICE)\n",
    "\n",
    "# Get and set the saved model parameters\n",
    "model_parameters = model_management.get_artifact_model_weights()\n",
    "model.load_state_dict(model_management)\n",
    "\n",
    "# Place model in eval mode\n",
    "model.eval()"
   ]
  },
  {
   "cell_type": "code",
   "execution_count": null,
   "metadata": {},
   "outputs": [],
   "source": []
  }
 ],
 "metadata": {
  "kernelspec": {
   "display_name": "Python 3.10.6 64-bit",
   "language": "python",
   "name": "python3"
  },
  "language_info": {
   "name": "python",
   "version": "3.10.6"
  },
  "orig_nbformat": 4,
  "vscode": {
   "interpreter": {
    "hash": "916dbcbb3f70747c44a77c7bcd40155683ae19c65e1c03b4aa3499c5328201f1"
   }
  }
 },
 "nbformat": 4,
 "nbformat_minor": 2
}
