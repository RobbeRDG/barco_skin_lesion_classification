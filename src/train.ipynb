{
 "cells": [
  {
   "cell_type": "code",
   "execution_count": 1,
   "metadata": {},
   "outputs": [],
   "source": [
    "# Imports\n",
    "# Utils\n",
    "import numpy as np\n",
    "import matplotlib as plt\n",
    "\n",
    "# DL libraries\n",
    "import torch\n",
    "from torch import nn\n",
    "import torch.optim as optim\n",
    "from torch.utils.data import DataLoader\n",
    "\n",
    "# User libraries\n",
    "from util import config\n",
    "from datasets.segmentationdataset import SegmentationDataset"
   ]
  },
  {
   "cell_type": "markdown",
   "metadata": {},
   "source": [
    "# Data"
   ]
  },
  {
   "cell_type": "code",
   "execution_count": null,
   "metadata": {},
   "outputs": [],
   "source": [
    "# Get the data\n",
    "train_segmentation_dataset = SegmentationDataset(\n",
    "    config.SEGMENTATION_DATA_PATH_TRAIN_FEATURES,\n",
    "    config.SEGMENTATION_DATA_PATH_TRAIN_LABELS\n",
    "    )\n",
    "\n",
    "test_segmentation_dataset = SegmentationDataset(\n",
    "    config.SEGMENTATION_DATA_PATH_TEST_FEATURES,\n",
    "    config.SEGMENTATION_DATA_PATH_TEST_LABELS\n",
    "    )\n",
    "\n",
    "# Place the datasets in dataloaders\n",
    "train_segmentation_dataloader = DataLoader(train_segmentation_dataset, batch_size=config.SEGMENTATION_BATCH_SIZE)\n",
    "test_segmentation_dataloader = DataLoader(test_segmentation_dataset, batch_size=1)\n",
    "\n"
   ]
  },
  {
   "cell_type": "code",
   "execution_count": null,
   "metadata": {},
   "outputs": [],
   "source": [
    "# Get the model\n",
    "model = torch.hub.load('milesial/Pytorch-UNet', 'unet_carvana', pretrained=True, scale=1)\n",
    "\n",
    "# Set the optimizer\n",
    "optimizer = optim.Adam(model.data.parameters, lr=config.SEGMENTATION_LR)\n",
    "\n",
    "# Set the loss fn\n",
    "criteria = nn.CrossEntropyLoss()"
   ]
  }
 ],
 "metadata": {
  "kernelspec": {
   "display_name": "Python 3.10.6 64-bit",
   "language": "python",
   "name": "python3"
  },
  "language_info": {
   "codemirror_mode": {
    "name": "ipython",
    "version": 3
   },
   "file_extension": ".py",
   "mimetype": "text/x-python",
   "name": "python",
   "nbconvert_exporter": "python",
   "pygments_lexer": "ipython3",
   "version": "3.10.6"
  },
  "orig_nbformat": 4,
  "vscode": {
   "interpreter": {
    "hash": "916dbcbb3f70747c44a77c7bcd40155683ae19c65e1c03b4aa3499c5328201f1"
   }
  }
 },
 "nbformat": 4,
 "nbformat_minor": 2
}
